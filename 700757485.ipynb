{
  "nbformat": 4,
  "nbformat_minor": 0,
  "metadata": {
    "colab": {
      "provenance": [],
      "authorship_tag": "ABX9TyNWCMK5NkcaXoUbrEdZrf47",
      "include_colab_link": true
    },
    "kernelspec": {
      "name": "python3",
      "display_name": "Python 3"
    },
    "language_info": {
      "name": "python"
    }
  },
  "cells": [
    {
      "cell_type": "markdown",
      "metadata": {
        "id": "view-in-github",
        "colab_type": "text"
      },
      "source": [
        "<a href=\"https://colab.research.google.com/github/Saipatelkuna/neural/blob/main/700757485.ipynb\" target=\"_parent\"><img src=\"https://colab.research.google.com/assets/colab-badge.svg\" alt=\"Open In Colab\"/></a>"
      ]
    },
    {
      "cell_type": "code",
      "execution_count": 5,
      "metadata": {
        "colab": {
          "base_uri": "https://localhost:8080/"
        },
        "id": "xC_xTpQXIRzu",
        "outputId": "1189a97b-b7e2-4cf9-a943-85327814cf5c"
      },
      "outputs": [
        {
          "output_type": "stream",
          "name": "stdout",
          "text": [
            "Total number of employees: 4\n",
            "Average salary of employees: 65000.0\n"
          ]
        }
      ],
      "source": [
        "class Employee:\n",
        "    employee_count = 0\n",
        "    total_salary = 0\n",
        "\n",
        "    def __init__(self, name, family, salary, department):\n",
        "        self.name = name\n",
        "        self.family = family\n",
        "        self.salary = salary\n",
        "        self.department = department\n",
        "\n",
        "        Employee.employee_count += 1\n",
        "        Employee.total_salary += salary\n",
        "\n",
        "    @classmethod\n",
        "    def average_salary(cls):\n",
        "        if cls.employee_count > 0:\n",
        "            return cls.total_salary / cls.employee_count\n",
        "        else:\n",
        "            return 0\n",
        "\n",
        "class FulltimeEmployee(Employee):\n",
        "    def __init__(self, name, family, salary, department):\n",
        "        super().__init__(name, family, salary, department)\n",
        "\n",
        "employee1 = Employee(\"Sai\", \"Kuna\", 50000, \"HR\")\n",
        "employee2 = FulltimeEmployee(\"Bala\", \"Vardhan\", 70000, \"Finance\")\n",
        "employee3 = Employee(\"Kiran\", \"Kumar\", 60000, \"IT\")\n",
        "employee4 = FulltimeEmployee(\"Anil\", \"Aku\", 80000, \"Marketing\")\n",
        "\n",
        "print(\"Total number of employees:\", Employee.employee_count)\n",
        "\n",
        "print(\"Average salary of employees:\", Employee.average_salary())\n"
      ]
    },
    {
      "cell_type": "code",
      "source": [
        "import numpy as np\n",
        "\n",
        "random_vector = np.random.uniform(1, 15, 20)\n",
        "\n",
        "reshaped_array = random_vector.reshape(4, 5)\n",
        "\n",
        "max1_in_rows = reshaped_array.max(axis=1).reshape(-1, 1)\n",
        "result1_array = np.where(reshaped_array == max1_in_rows, 0, reshaped_array)\n",
        "\n",
        "print(\"Original reshaped array:\\n\", reshaped_array)\n",
        "print(\"\\nArray after replacing max in each row by 0:\\n\", result1_array)\n"
      ],
      "metadata": {
        "colab": {
          "base_uri": "https://localhost:8080/"
        },
        "id": "fYT6n1S8I5sN",
        "outputId": "1df979e3-ffd0-4607-f5e1-66da46dc2f81"
      },
      "execution_count": 7,
      "outputs": [
        {
          "output_type": "stream",
          "name": "stdout",
          "text": [
            "Original reshaped array:\n",
            " [[ 5.67633953 13.41250963  3.18561608  2.53904857 13.74568414]\n",
            " [ 7.59663877  8.22520485 11.73171109 11.51432578  4.91410962]\n",
            " [ 4.35687246  2.31177437 14.69065352  2.43015245  1.65476349]\n",
            " [ 7.22962688 11.75173011  8.69346601  9.69035986 14.04329914]]\n",
            "\n",
            "Array after replacing max in each row by 0:\n",
            " [[ 5.67633953 13.41250963  3.18561608  2.53904857  0.        ]\n",
            " [ 7.59663877  8.22520485  0.         11.51432578  4.91410962]\n",
            " [ 4.35687246  2.31177437  0.          2.43015245  1.65476349]\n",
            " [ 7.22962688 11.75173011  8.69346601  9.69035986  0.        ]]\n"
          ]
        }
      ]
    }
  ]
}